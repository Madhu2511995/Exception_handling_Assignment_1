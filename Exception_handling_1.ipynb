{
 "cells": [
  {
   "cell_type": "markdown",
   "id": "e827d5e7-36d1-4a40-95ef-a5cad9cc958b",
   "metadata": {},
   "source": [
    "Q1. what is an Exception in Python? Write the diffrence betweens exceptions and syntax Errors\n",
    "\n",
    "Q2. What happens when an Exception is not handled? Explain with Example.\n",
    "\n",
    "Q3. Which python statements are used to catch and handle exception? Explain with an example.\n",
    "\n",
    "Q4. Explain with example:\n",
    "   a. try and else\n",
    "   b. finally\n",
    "   c. raise\n",
    "\n",
    "Q5. What are custom Exception in python? Why do we need custom exceptions?Explain with an example.\n",
    "\n",
    "Q6. create a custom exception class. Use this class to handle an exception."
   ]
  },
  {
   "cell_type": "markdown",
   "id": "3222cdad-d6e8-4f93-b4a8-cf6a1aa33cde",
   "metadata": {},
   "source": [
    "Answer"
   ]
  },
  {
   "cell_type": "markdown",
   "id": "4d3afd71-2bc6-4465-a826-310cd420c1d2",
   "metadata": {},
   "source": [
    "Q1. what is an Exception in Python? Write the diffrence betweens exceptions  and syntax Errors"
   ]
  },
  {
   "cell_type": "markdown",
   "id": "a359e207-b081-4504-ad54-7cb4ee918fcf",
   "metadata": {},
   "source": [
    "Exception ===> An unwanted and unexpected event that disturb normal flow of program is called exception.\n",
    "\n",
    "Syntax Errors ===> The error which occurs due to invalid syntax is called syntax error.\n",
    "\n",
    "Diffrence ===> An error privent the completing the task but in exception it disturb the normal flow of program."
   ]
  },
  {
   "cell_type": "markdown",
   "id": "914a86ba-ed9e-47a2-9602-f235f8ab7479",
   "metadata": {},
   "source": [
    "Q2. What happens when an Exception is not handled? Explain with Example."
   ]
  },
  {
   "cell_type": "markdown",
   "id": "5165305f-2763-41c0-b276-95707c24878f",
   "metadata": {},
   "source": [
    "When an exception occur and it not handled then program does not perform graceful termination many of our resource are block . when an exception \n",
    "occur then rest of our code is not executed."
   ]
  },
  {
   "cell_type": "code",
   "execution_count": 2,
   "id": "e5b43c52-71cd-4135-a701-8d6fac0b9529",
   "metadata": {},
   "outputs": [
    {
     "name": "stdout",
     "output_type": "stream",
     "text": [
      "Befor Exception\n"
     ]
    },
    {
     "ename": "ZeroDivisionError",
     "evalue": "division by zero",
     "output_type": "error",
     "traceback": [
      "\u001b[0;31m---------------------------------------------------------------------------\u001b[0m",
      "\u001b[0;31mZeroDivisionError\u001b[0m                         Traceback (most recent call last)",
      "Cell \u001b[0;32mIn[2], line 2\u001b[0m\n\u001b[1;32m      1\u001b[0m \u001b[38;5;28mprint\u001b[39m(\u001b[38;5;124m\"\u001b[39m\u001b[38;5;124mBefor Exception\u001b[39m\u001b[38;5;124m\"\u001b[39m)\n\u001b[0;32m----> 2\u001b[0m \u001b[38;5;28mprint\u001b[39m(\u001b[38;5;241;43m10\u001b[39;49m\u001b[38;5;241;43m/\u001b[39;49m\u001b[38;5;241;43m0\u001b[39;49m)\n\u001b[1;32m      3\u001b[0m \u001b[38;5;28mprint\u001b[39m(\u001b[38;5;124m\"\u001b[39m\u001b[38;5;124mAfter Exception\u001b[39m\u001b[38;5;124m\"\u001b[39m)\n",
      "\u001b[0;31mZeroDivisionError\u001b[0m: division by zero"
     ]
    }
   ],
   "source": [
    "print(\"Befor Exception\")\n",
    "print(10/0)\n",
    "print(\"After Exception\")"
   ]
  },
  {
   "cell_type": "code",
   "execution_count": 3,
   "id": "d0c27a83-64f6-4f14-9e1e-ffef878e1e1c",
   "metadata": {},
   "outputs": [
    {
     "name": "stdout",
     "output_type": "stream",
     "text": [
      "Befor Exception\n",
      "After Exception\n"
     ]
    }
   ],
   "source": [
    "try:\n",
    "    print(\"Befor Exception\")\n",
    "    print(10/0)\n",
    "except ZeroDivisionError:\n",
    "    print(\"After Exception\")\n",
    "    "
   ]
  },
  {
   "cell_type": "markdown",
   "id": "f23b5ca4-8d3f-47b6-af31-8e452a1d9cb2",
   "metadata": {},
   "source": [
    "Q4. Explain with example: a. try and else b. finally c. raise"
   ]
  },
  {
   "cell_type": "markdown",
   "id": "017096ee-b41b-4e00-805a-838c12eb55d1",
   "metadata": {},
   "source": [
    "a. try and else"
   ]
  },
  {
   "cell_type": "markdown",
   "id": "b6e58b22-1d57-481c-882d-7b35f4b90fd1",
   "metadata": {},
   "source": [
    "try ===> Risky code (the code which may cause of an exception ) is written in the try block.\n",
    "\n",
    "else ==> Else block will executed if and only if try block have no exception."
   ]
  },
  {
   "cell_type": "code",
   "execution_count": 6,
   "id": "dbf42b6e-4915-4569-a5c4-00186b41beda",
   "metadata": {},
   "outputs": [
    {
     "name": "stdout",
     "output_type": "stream",
     "text": [
      "this is try block\n",
      "This is else block\n"
     ]
    }
   ],
   "source": [
    "try:\n",
    "    print(\"this is try block\")\n",
    "except:\n",
    "    print('This is an except block')\n",
    "else:\n",
    "    print('This is else block')"
   ]
  },
  {
   "cell_type": "code",
   "execution_count": 8,
   "id": "9da1e0a0-67c8-45eb-b199-ef937a3c851b",
   "metadata": {},
   "outputs": [
    {
     "name": "stdout",
     "output_type": "stream",
     "text": [
      "this is try block\n",
      "This is an except block\n"
     ]
    }
   ],
   "source": [
    "try:\n",
    "    print('this is try block')\n",
    "    print(10/0)\n",
    "except ZeroDivisionError:\n",
    "    print('This is an except block')\n",
    "else:\n",
    "    print('This is an else block')"
   ]
  },
  {
   "cell_type": "markdown",
   "id": "eda87088-c5f9-4ca1-ab53-8d7997681262",
   "metadata": {},
   "source": [
    "b.Finally ==> Finally block will be executed weather exception raised or not raised and handled or not handled"
   ]
  },
  {
   "cell_type": "code",
   "execution_count": 9,
   "id": "d9a17ab5-178d-4b0c-b3bb-8a2dc580d8d1",
   "metadata": {},
   "outputs": [
    {
     "name": "stdout",
     "output_type": "stream",
     "text": [
      "this is try block\n",
      "This is an except block\n",
      "This is a finally block\n"
     ]
    }
   ],
   "source": [
    "try:\n",
    "    print('this is try block')\n",
    "    print(10/0)\n",
    "except ZeroDivisionError:\n",
    "    print('This is an except block')\n",
    "finally:\n",
    "    print('This is a finally block')"
   ]
  },
  {
   "cell_type": "code",
   "execution_count": 10,
   "id": "255baf69-51ba-4e46-911a-561438fce6b8",
   "metadata": {},
   "outputs": [
    {
     "name": "stdout",
     "output_type": "stream",
     "text": [
      "this is try block\n",
      "This is a finally block\n"
     ]
    }
   ],
   "source": [
    "try:\n",
    "    print('this is try block')\n",
    "except ZeroDivisionError:\n",
    "    print('This is an except block')\n",
    "finally:\n",
    "    print('This is a finally block')"
   ]
  },
  {
   "cell_type": "markdown",
   "id": "d76774dd-cf86-4486-95ad-94ba8a36d2c0",
   "metadata": {},
   "source": [
    "c. raise ==> raise keayword are used to create a custom exceptions."
   ]
  },
  {
   "cell_type": "code",
   "execution_count": 34,
   "id": "7f941241-61f9-46d2-a759-1058312c2ddb",
   "metadata": {},
   "outputs": [],
   "source": [
    "class TooYoungException(Exception):\n",
    "    def __init__(self,arg):\n",
    "        self.arg=arg"
   ]
  },
  {
   "cell_type": "code",
   "execution_count": 35,
   "id": "c481fcaf-460b-4398-9cbc-d61d608a3df9",
   "metadata": {},
   "outputs": [],
   "source": [
    "class TooOldException(Exception):\n",
    "    def __init__(self,arg):\n",
    "        self.arg=arg"
   ]
  },
  {
   "cell_type": "code",
   "execution_count": 40,
   "id": "bc2e91a4-dbb5-483f-bf6a-0a84a9ae1b9d",
   "metadata": {},
   "outputs": [
    {
     "name": "stdin",
     "output_type": "stream",
     "text": [
      "Enter your age :  19\n"
     ]
    },
    {
     "name": "stdout",
     "output_type": "stream",
     "text": [
      "You will get match detail soon\n"
     ]
    }
   ],
   "source": [
    "age=int(input(\"Enter your age : \"))\n",
    "if age >60:\n",
    "    raise TooOldException('plz wait some more time to get best match')\n",
    "elif age <18:\n",
    "    raise TooYoungException(\"To young to get match\")\n",
    "else:\n",
    "    print('You will get match detail soon')"
   ]
  },
  {
   "cell_type": "markdown",
   "id": "79834d20-6bde-4f91-9baf-57aa68e52a78",
   "metadata": {},
   "source": [
    "Q5. What are custom Exception in python? Why do we need custom exceptions?Explain with an example."
   ]
  },
  {
   "cell_type": "markdown",
   "id": "8762c5dd-4ec3-430b-ab13-a2fefe750885",
   "metadata": {},
   "source": [
    "Custome Exception ==> Some time we have to define and raise exceptin explecitly to indicate that something gose wrong,such type of exception is \n",
    "custom exception.\n",
    "\n",
    "why ==> when we wnat to display our own mesage except predefind exception in python"
   ]
  },
  {
   "cell_type": "code",
   "execution_count": 54,
   "id": "b1a7b21b-a64a-467b-8f30-27fdd730c5b6",
   "metadata": {},
   "outputs": [
    {
     "name": "stdin",
     "output_type": "stream",
     "text": [
      "Enter your marks:  200\n"
     ]
    },
    {
     "name": "stdout",
     "output_type": "stream",
     "text": [
      "Custom Exception Occurred: Your Marks are greater than the maximum allowed mark.\n"
     ]
    }
   ],
   "source": [
    "class MaxMarks(Exception):\n",
    "    def __init__(self, msg):\n",
    "        self.msg = msg\n",
    "\n",
    "def validate_mark(mark):\n",
    "    if mark > 100:\n",
    "        raise MaxMarks(\"Your Marks are greater than the maximum allowed mark.\")\n",
    "    else:\n",
    "        print('Your Mark is okay.')\n",
    "\n",
    "try:\n",
    "    mark = int(input(\"Enter your marks: \"))\n",
    "    validate_mark(mark)\n",
    "except MaxMarks as e:\n",
    "    print(\"Custom Exception Occurred:\", e.msg)\n"
   ]
  },
  {
   "cell_type": "markdown",
   "id": "c8e6f583-a1c7-4c4a-affe-02fd27778d06",
   "metadata": {},
   "source": [
    "Q6. create a custom exception class. Use this class to handle an exception."
   ]
  },
  {
   "cell_type": "code",
   "execution_count": 55,
   "id": "470e54b8-487a-4d03-940e-4d0a2594f478",
   "metadata": {},
   "outputs": [
    {
     "name": "stdin",
     "output_type": "stream",
     "text": [
      "Enter your marks:  12\n"
     ]
    },
    {
     "name": "stdout",
     "output_type": "stream",
     "text": [
      "Your Mark is okay.\n"
     ]
    }
   ],
   "source": [
    "class MaxMarks(Exception):\n",
    "    def __init__(self, msg):\n",
    "        self.msg = msg\n",
    "\n",
    "def validate_mark(mark):\n",
    "    if mark > 100:\n",
    "        raise MaxMarks(\"Your Marks are greater than the maximum allowed mark.\")\n",
    "    else:\n",
    "        print('Your Mark is okay.')\n",
    "\n",
    "try:\n",
    "    mark = int(input(\"Enter your marks: \"))\n",
    "    validate_mark(mark)\n",
    "except MaxMarks as e:\n",
    "    print(\"Custom Exception Occurred:\", e.msg)\n"
   ]
  },
  {
   "cell_type": "code",
   "execution_count": null,
   "id": "d514d73a-f0ab-42e4-84fe-2d38c850d90b",
   "metadata": {},
   "outputs": [],
   "source": []
  },
  {
   "cell_type": "code",
   "execution_count": null,
   "id": "c05b4692-5038-464b-8dc4-ebae6a19e1fd",
   "metadata": {},
   "outputs": [],
   "source": []
  },
  {
   "cell_type": "code",
   "execution_count": null,
   "id": "0e624ff0-7716-4f23-9bfc-3ada7dcb2534",
   "metadata": {},
   "outputs": [],
   "source": []
  },
  {
   "cell_type": "code",
   "execution_count": null,
   "id": "eb87e1e6-5ed6-486c-ae12-d6dfea4719e4",
   "metadata": {},
   "outputs": [],
   "source": []
  },
  {
   "cell_type": "code",
   "execution_count": null,
   "id": "a0eaace2-85f6-4b97-87c6-990d0b250f41",
   "metadata": {},
   "outputs": [],
   "source": []
  },
  {
   "cell_type": "code",
   "execution_count": null,
   "id": "76022f0e-9c84-4c00-83d9-59a287f2bbb8",
   "metadata": {},
   "outputs": [],
   "source": []
  },
  {
   "cell_type": "code",
   "execution_count": null,
   "id": "f8cd204d-fc28-4579-9697-51aa2b01f371",
   "metadata": {},
   "outputs": [],
   "source": []
  },
  {
   "cell_type": "code",
   "execution_count": null,
   "id": "b27d9e27-08cc-43c8-8934-aeb36ebd9c7d",
   "metadata": {},
   "outputs": [],
   "source": []
  },
  {
   "cell_type": "code",
   "execution_count": null,
   "id": "9b6c0f38-e0fc-43d1-b525-e06151913629",
   "metadata": {},
   "outputs": [],
   "source": []
  },
  {
   "cell_type": "code",
   "execution_count": null,
   "id": "ec2c3cb6-3184-487d-97c3-a366bbcd0cc7",
   "metadata": {},
   "outputs": [],
   "source": []
  }
 ],
 "metadata": {
  "kernelspec": {
   "display_name": "Python 3 (ipykernel)",
   "language": "python",
   "name": "python3"
  },
  "language_info": {
   "codemirror_mode": {
    "name": "ipython",
    "version": 3
   },
   "file_extension": ".py",
   "mimetype": "text/x-python",
   "name": "python",
   "nbconvert_exporter": "python",
   "pygments_lexer": "ipython3",
   "version": "3.10.8"
  }
 },
 "nbformat": 4,
 "nbformat_minor": 5
}
